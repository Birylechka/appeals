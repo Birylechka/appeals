{
 "cells": [
  {
   "cell_type": "code",
   "execution_count": 10,
   "metadata": {
    "scrolled": true
   },
   "outputs": [
    {
     "ename": "TypeError",
     "evalue": "must be real number, not NoneType",
     "output_type": "error",
     "traceback": [
      "\u001b[1;31m---------------------------------------------------------------------------\u001b[0m",
      "\u001b[1;31mTypeError\u001b[0m                                 Traceback (most recent call last)",
      "\u001b[1;32m<ipython-input-10-04dd75dcf817>\u001b[0m in \u001b[0;36m<module>\u001b[1;34m()\u001b[0m\n\u001b[0;32m     69\u001b[0m     \u001b[1;32mif\u001b[0m \u001b[0msheetactive\u001b[0m\u001b[1;33m.\u001b[0m\u001b[0mcell\u001b[0m\u001b[1;33m(\u001b[0m\u001b[0mrow\u001b[0m \u001b[1;33m=\u001b[0m \u001b[0mi\u001b[0m\u001b[1;33m,\u001b[0m \u001b[0mcolumn\u001b[0m \u001b[1;33m=\u001b[0m \u001b[1;36m30\u001b[0m\u001b[1;33m)\u001b[0m\u001b[1;33m.\u001b[0m\u001b[0mvalue\u001b[0m\u001b[1;33m!=\u001b[0m\u001b[1;34m\"\"\u001b[0m \u001b[1;32mand\u001b[0m \u001b[0msheetactive\u001b[0m\u001b[1;33m.\u001b[0m\u001b[0mcell\u001b[0m\u001b[1;33m(\u001b[0m\u001b[0mrow\u001b[0m \u001b[1;33m=\u001b[0m \u001b[0mi\u001b[0m\u001b[1;33m,\u001b[0m \u001b[0mcolumn\u001b[0m \u001b[1;33m=\u001b[0m\u001b[1;36m30\u001b[0m\u001b[1;33m)\u001b[0m\u001b[1;33m.\u001b[0m\u001b[0mvalue\u001b[0m\u001b[1;33m!=\u001b[0m\u001b[1;36m0\u001b[0m\u001b[1;33m:\u001b[0m\u001b[1;33m\u001b[0m\u001b[0m\n\u001b[0;32m     70\u001b[0m         \u001b[1;32mif\u001b[0m \u001b[0msheetactive\u001b[0m\u001b[1;33m.\u001b[0m\u001b[0mcell\u001b[0m\u001b[1;33m(\u001b[0m\u001b[0mrow\u001b[0m \u001b[1;33m=\u001b[0m \u001b[0mi\u001b[0m\u001b[1;33m,\u001b[0m \u001b[0mcolumn\u001b[0m \u001b[1;33m=\u001b[0m \u001b[1;36m31\u001b[0m\u001b[1;33m)\u001b[0m\u001b[1;33m.\u001b[0m\u001b[0mvalue\u001b[0m\u001b[1;33m!=\u001b[0m\u001b[1;34m\"\"\u001b[0m \u001b[1;32mand\u001b[0m \u001b[0msheetactive\u001b[0m\u001b[1;33m.\u001b[0m\u001b[0mcell\u001b[0m\u001b[1;33m(\u001b[0m\u001b[0mrow\u001b[0m \u001b[1;33m=\u001b[0m \u001b[0mi\u001b[0m\u001b[1;33m,\u001b[0m \u001b[0mcolumn\u001b[0m \u001b[1;33m=\u001b[0m \u001b[1;36m31\u001b[0m\u001b[1;33m)\u001b[0m\u001b[1;33m.\u001b[0m\u001b[0mvalue\u001b[0m\u001b[1;33m!=\u001b[0m\u001b[1;36m0\u001b[0m\u001b[1;33m:\u001b[0m\u001b[1;33m\u001b[0m\u001b[0m\n\u001b[1;32m---> 71\u001b[1;33m             \u001b[1;32mif\u001b[0m \u001b[0mmath\u001b[0m\u001b[1;33m.\u001b[0m\u001b[0misclose\u001b[0m\u001b[1;33m(\u001b[0m\u001b[1;33m(\u001b[0m\u001b[0msheetactive\u001b[0m\u001b[1;33m.\u001b[0m\u001b[0mcell\u001b[0m\u001b[1;33m(\u001b[0m\u001b[0mrow\u001b[0m \u001b[1;33m=\u001b[0m \u001b[0mi\u001b[0m\u001b[1;33m,\u001b[0m \u001b[0mcolumn\u001b[0m \u001b[1;33m=\u001b[0m \u001b[1;36m30\u001b[0m\u001b[1;33m)\u001b[0m\u001b[1;33m.\u001b[0m\u001b[0mvalue\u001b[0m\u001b[1;33m)\u001b[0m\u001b[1;33m,\u001b[0m \u001b[1;33m(\u001b[0m\u001b[0msheetactive\u001b[0m\u001b[1;33m.\u001b[0m\u001b[0mcell\u001b[0m\u001b[1;33m(\u001b[0m\u001b[0mrow\u001b[0m \u001b[1;33m=\u001b[0m \u001b[0mi\u001b[0m\u001b[1;33m,\u001b[0m \u001b[0mcolumn\u001b[0m \u001b[1;33m=\u001b[0m \u001b[1;36m31\u001b[0m\u001b[1;33m)\u001b[0m\u001b[1;33m.\u001b[0m\u001b[0mvalue\u001b[0m\u001b[1;33m)\u001b[0m\u001b[1;33m)\u001b[0m \u001b[1;32mor\u001b[0m \u001b[1;33m(\u001b[0m\u001b[1;33m(\u001b[0m\u001b[0msheetactive\u001b[0m\u001b[1;33m.\u001b[0m\u001b[0mcell\u001b[0m\u001b[1;33m(\u001b[0m\u001b[0mrow\u001b[0m \u001b[1;33m=\u001b[0m \u001b[0mi\u001b[0m\u001b[1;33m,\u001b[0m \u001b[0mcolumn\u001b[0m \u001b[1;33m=\u001b[0m \u001b[1;36m30\u001b[0m\u001b[1;33m)\u001b[0m\u001b[1;33m.\u001b[0m\u001b[0mvalue\u001b[0m\u001b[1;33m)\u001b[0m\u001b[1;33m>\u001b[0m\u001b[1;33m(\u001b[0m\u001b[0msheetactive\u001b[0m\u001b[1;33m.\u001b[0m\u001b[0mcell\u001b[0m\u001b[1;33m(\u001b[0m\u001b[0mrow\u001b[0m \u001b[1;33m=\u001b[0m \u001b[0mi\u001b[0m\u001b[1;33m,\u001b[0m \u001b[0mcolumn\u001b[0m \u001b[1;33m=\u001b[0m \u001b[1;36m31\u001b[0m\u001b[1;33m)\u001b[0m\u001b[1;33m.\u001b[0m\u001b[0mvalue\u001b[0m\u001b[1;33m)\u001b[0m\u001b[1;33m)\u001b[0m\u001b[1;33m:\u001b[0m\u001b[1;33m\u001b[0m\u001b[0m\n\u001b[0m\u001b[0;32m     72\u001b[0m                 \u001b[0msheetactive\u001b[0m\u001b[1;33m.\u001b[0m\u001b[0mcell\u001b[0m\u001b[1;33m(\u001b[0m\u001b[0mrow\u001b[0m \u001b[1;33m=\u001b[0m \u001b[0mi\u001b[0m\u001b[1;33m,\u001b[0m \u001b[0mcolumn\u001b[0m \u001b[1;33m=\u001b[0m \u001b[1;36m56\u001b[0m\u001b[1;33m)\u001b[0m\u001b[1;33m.\u001b[0m\u001b[0mvalue\u001b[0m \u001b[1;33m=\u001b[0m \u001b[1;34m\"Да\"\u001b[0m\u001b[1;33m\u001b[0m\u001b[0m\n\u001b[0;32m     73\u001b[0m \u001b[1;33m\u001b[0m\u001b[0m\n",
      "\u001b[1;31mTypeError\u001b[0m: must be real number, not NoneType"
     ]
    }
   ],
   "source": [
    "import openpyxl                                                                                                                               \n",
    "import win32com.client as win32\n",
    "import openpyxl\n",
    "import pandas as pd\n",
    "import ctypes\n",
    "import win32com\n",
    "import time\n",
    "import shutil\n",
    "import warnings\n",
    "import os\n",
    "from pathlib import Path\n",
    "import numpy as np\n",
    "import datetime\n",
    "import math\n",
    "from openpyxl import load_workbook\n",
    "\n",
    "wb = openpyxl.load_workbook(f'export/Общая выгрузка.xlsx')                    \n",
    "sheetlist = wb.sheetnames                                                                                                                \n",
    "sheetactive = wb[sheetlist[0]]  \n",
    "\n",
    "sheetactive.cell(row = 1, column = 49).value=\"ПРОСРОК\"\n",
    "sheetactive.cell(row = 1, column = 50).value=\"НЕВЕРНЫЙ ШАБЛОН\"\n",
    "sheetactive.cell(row = 1, column = 51).value=\"ОТОЗВАНО\"\n",
    "sheetactive.cell(row = 1, column = 52).value=\"НЕ СОГЛАСОВАНО\"\n",
    "sheetactive.cell(row = 1, column = 53).value=\"ПЕРЕНАЗНАЧЕНО\"\n",
    "sheetactive.cell(row = 1, column = 54).value=\"ПЕРЕНАЗНАЧЕНО БОЛЕЕ 3 РАЗ\"\n",
    "sheetactive.cell(row = 1, column = 55).value=\"ОТРИЦАТЕЛЬНАЯ ОЦЕНКА\"\n",
    "sheetactive.cell(row = 1, column = 56).value=\"ОТКАЗЫ\"\n",
    "sheetactive.cell(row = 1, column = 57).value=\"ЖАЛОБЫ\"\n",
    "sheetactive.cell(row = 1, column = 58).value=\"ВОЗВРАТЫ\"\n",
    "sheetactive.cell(row = 1, column = 59).value=\"СЦЕПКА\"\n",
    "\n",
    "for i in range(3, 10000):\n",
    "    if sheetactive.cell(row = i, column = 10).value!=\"\":\n",
    "        if sheetactive.cell(row = i, column = 11).value!=\"\" and sheetactive.cell(row = i, column = 11).value!=0:\n",
    "            if math.isclose((sheetactive.cell(row = i, column = 11).value)/(sheetactive.cell(row = i, column = 10).value), 0.9) or ((sheetactive.cell(row = i, column = 11).value)/(sheetactive.cell(row = i, column = 10).value)>0.9): \n",
    "                sheetactive.cell(row = i, column = 49).value = \"Да\"\n",
    "\n",
    "    if sheetactive.cell(row = i, column = 10).value!=\"\" and sheetactive.cell(row = i, column =10).value!=0:\n",
    "        if sheetactive.cell(row = i, column = 12).value!=\"\" and sheetactive.cell(row = i, column = 12).value!=0:\n",
    "            if math.isclose((sheetactive.cell(row = i, column = 12).value)/(sheetactive.cell(row = i, column = 10).value), 0.6) or ((sheetactive.cell(row = i, column = 12).value)/(sheetactive.cell(row = i, column = 10).value)>0.6): \n",
    "                sheetactive.cell(row = i, column = 50).value = \"Да\"\n",
    "                \n",
    "    if sheetactive.cell(row = i, column = 10).value!=\"\" and sheetactive.cell(row = i, column =10).value!=0:\n",
    "        if sheetactive.cell(row = i, column = 13).value!=\"\" and sheetactive.cell(row = i, column = 13).value!=0:\n",
    "            if math.isclose((sheetactive.cell(row = i, column = 13).value)/(sheetactive.cell(row = i, column = 10).value), 0.6) or ((sheetactive.cell(row = i, column = 13).value)/(sheetactive.cell(row = i, column = 10).value)>0.6): \n",
    "                sheetactive.cell(row = i, column = 51).value = \"Да\"                \n",
    "                \n",
    "    if sheetactive.cell(row = i, column = 10).value!=\"\" and sheetactive.cell(row = i, column =10).value!=0:\n",
    "        if sheetactive.cell(row = i, column = 14).value!=\"\" and sheetactive.cell(row = i, column = 14).value!=0:\n",
    "            if math.isclose((sheetactive.cell(row = i, column = 14).value)/(sheetactive.cell(row = i, column = 10).value), 0.6) or ((sheetactive.cell(row = i, column = 14).value)/(sheetactive.cell(row = i, column = 10).value)>0.6): \n",
    "                sheetactive.cell(row = i, column = 52).value = \"Да\"  \n",
    "                \n",
    "                \n",
    "    if sheetactive.cell(row = i, column = 10).value!=\"\" and sheetactive.cell(row = i, column =10).value!=0:\n",
    "        if sheetactive.cell(row = i, column = 15).value!=\"\" and sheetactive.cell(row = i, column = 15).value!=0:\n",
    "            if math.isclose((sheetactive.cell(row = i, column = 15).value)/(sheetactive.cell(row = i, column = 10).value), 0.9) or ((sheetactive.cell(row = i, column = 15).value)/(sheetactive.cell(row = i, column = 10).value)>0.9): \n",
    "                sheetactive.cell(row = i, column = 53).value = \"Да\"  \n",
    "\n",
    "    if sheetactive.cell(row = i, column = 10).value!=\"\" and sheetactive.cell(row = i, column =10).value!=0:\n",
    "        if sheetactive.cell(row = i, column = 16).value!=\"\" and sheetactive.cell(row = i, column = 16).value!=0:\n",
    "            if math.isclose((sheetactive.cell(row = i, column = 16).value)/(sheetactive.cell(row = i, column = 10).value), 0.9) or ((sheetactive.cell(row = i, column = 16).value)/(sheetactive.cell(row = i, column = 10).value)>0.9): \n",
    "                sheetactive.cell(row = i, column = 54).value = \"Да\"  \n",
    "                \n",
    "                \n",
    "    if sheetactive.cell(row = i, column = 8).value!=\"\" and sheetactive.cell(row = i, column =8).value!=0 and sheetactive.cell(row = i, column =8).value!=1:\n",
    "        sheetactive.cell(row = i, column = 55).value = \"Да\"  \n",
    "                \n",
    "    if sheetactive.cell(row = i, column = 30).value!=\"\" and sheetactive.cell(row = i, column =30).value!=0:\n",
    "        if sheetactive.cell(row = i, column = 31).value!=\"\" and sheetactive.cell(row = i, column = 31).value!=0:\n",
    "            if math.isclose((sheetactive.cell(row = i, column = 30).value), (sheetactive.cell(row = i, column = 31).value)) or ((sheetactive.cell(row = i, column = 30).value)>(sheetactive.cell(row = i, column = 31).value)): \n",
    "                sheetactive.cell(row = i, column = 56).value = \"Да\"  \n",
    "\n",
    "                \n",
    "    if sheetactive.cell(row = i, column = 10).value!=\"\" and sheetactive.cell(row = i, column =10).value!=0:\n",
    "        if sheetactive.cell(row = i, column = 32).value!=\"\" and sheetactive.cell(row = i, column = 32).value!=0:\n",
    "            if math.isclose((sheetactive.cell(row = i, column = 32).value)/(sheetactive.cell(row = i, column = 10).value), 0.5) or ((sheetactive.cell(row = i, column = 32).value)/(sheetactive.cell(row = i, column = 10).value)>0.5): \n",
    "                sheetactive.cell(row = i, column = 57).value = \"Да\" \n",
    "                \n",
    "    if sheetactive.cell(row = i, column = 27).value!=\"\" and sheetactive.cell(row = i, column =27).value!=0:\n",
    "        if sheetactive.cell(row = i, column = 28).value!=\"\" and sheetactive.cell(row = i, column = 28).value!=0:\n",
    "            if math.isclose((sheetactive.cell(row = i, column = 27).value), (sheetactive.cell(row = i, column = 28).value)) or ((sheetactive.cell(row = i, column = 27).value)>(sheetactive.cell(row = i, column = 28).value)): \n",
    "                sheetactive.cell(row = i, column = 58).value = \"Да\"  \n",
    "\n",
    "for i in range(3, 10000):\n",
    "    \n",
    "    if sheetactive.cell(row = i, column = 1).value!=\"\":\n",
    "        if sheetactive.cell(row = i, column = 2).value!=\"\":\n",
    "            if sheetactive.cell(row = i, column = 3).value!=\"\":\n",
    "                sheetactive.cell(row = i, column = 59).value =(sheetactive.cell(row = i, column = 1).value).str+(sheetactive.cell(row = i, column = 2).value).str+(sheetactive.cell(row = i, column = 3).value).str\n",
    "\n",
    "\n",
    "for i in range(3, 1000):  \n",
    "    for j in range(1, 60):  \n",
    "        if sheetactive.cell(row = i, column = 49).value==\"\":\n",
    "            if sheetactive.cell(row = i, column = 50).value==\"\":\n",
    "                if sheetactive.cell(row = i, column = 51).value==\"\":\n",
    "                    if sheetactive.cell(row = i, column = 52).value==\"\":\n",
    "                        if sheetactive.cell(row = i, column = 53).value==\"\":\n",
    "                            if sheetactive.cell(row = i, column = 54).value==\"\":\n",
    "                                if sheetactive.cell(row = i, column = 55).value==\"\":\n",
    "                                    if sheetactive.cell(row = i, column = 56).value==\"\":\n",
    "                                        if sheetactive.cell(row = i, column = 57).value==\"\":\n",
    "                                            if sheetactive.cell(row = i, column = 58).value==\"\":\n",
    "                                                sheetactive.cell(row = i, column = j).value= \"\"\n",
    "\n",
    "wb.save(f'pr.result/Предварительная сортировка.xlsx')                                                                                                                   \n",
    "wb.close()     \n",
    "print(\"готово1\")"
   ]
  },
  {
   "cell_type": "code",
   "execution_count": null,
   "metadata": {
    "collapsed": true
   },
   "outputs": [],
   "source": []
  },
  {
   "cell_type": "code",
   "execution_count": null,
   "metadata": {
    "collapsed": true
   },
   "outputs": [],
   "source": []
  },
  {
   "cell_type": "code",
   "execution_count": null,
   "metadata": {
    "collapsed": true
   },
   "outputs": [],
   "source": []
  }
 ],
 "metadata": {
  "kernelspec": {
   "display_name": "Python 3",
   "language": "python",
   "name": "python3"
  },
  "language_info": {
   "codemirror_mode": {
    "name": "ipython",
    "version": 3
   },
   "file_extension": ".py",
   "mimetype": "text/x-python",
   "name": "python",
   "nbconvert_exporter": "python",
   "pygments_lexer": "ipython3",
   "version": "3.6.1"
  }
 },
 "nbformat": 4,
 "nbformat_minor": 2
}
